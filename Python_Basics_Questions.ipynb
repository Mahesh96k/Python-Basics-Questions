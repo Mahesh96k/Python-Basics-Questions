{
  "nbformat": 4,
  "nbformat_minor": 0,
  "metadata": {
    "colab": {
      "provenance": []
    },
    "kernelspec": {
      "name": "python3",
      "display_name": "Python 3"
    },
    "language_info": {
      "name": "python"
    }
  },
  "cells": [
    {
      "cell_type": "markdown",
      "source": [],
      "metadata": {
        "id": "7BFY5VAJvbfg"
      }
    },
    {
      "cell_type": "markdown",
      "source": [
        "# **Python Basics Questions**\n",
        "\n",
        "01. What is Python, and why is it popular?\n",
        "\n",
        "   --> Python is an programming Language is used for creating intruction for a\n",
        "       computer to follow\n",
        "  \n",
        "       The python is widely used in the industry and its consist of 1,37,000 libaries.\n",
        "\n",
        "       Python is easy to learn and easy to understand.\n",
        "\n",
        "\n",
        "02. What is an interpreter in Python?\n",
        "\n",
        " --> The python interpreter is an programme in python language that read and\n",
        "    write and excute the python code in the python.\n",
        "\n",
        "\n",
        "\n",
        "\n",
        "03. What are pre-defined keywords in Python?\n",
        "\n",
        "  --> The pre-defined keywords in the python are the reserved words in the\n",
        "     python programme and that cant be changed during the programe writting.\n",
        "\n",
        "\n",
        "\n",
        "04. Can keywords be used as variable names?\n",
        "\n",
        "  --> NO, keywords cant be used as varibale name in the python language because\n",
        "     the keywords are pre-defined in the python.\n",
        "\n",
        "\n",
        " 05. What is mutability in Python?\n",
        "\n",
        "   --> The Mutability in the python are the value that can be changed as per  \n",
        "       our requiredment where we can change the value and the state of the perticular value .\n",
        "\n",
        "       for example: SET , LIST , DICTIONARY are the example of the Mutability in the python Language .\n",
        "\n",
        " 06. Why are lists mutable, but tuples are immutable?\n",
        "\n",
        "   --> Because the value in the list we can change as per our requirement and\n",
        "       the subsicuent value that we needed to change .no the other hand we cannt change the value in the tuple thats why lists are the mutable and the tuples are the immutable in the python .    \n",
        "\n",
        "\n",
        "\n",
        " 07. What is the difference between “==” and “is” operators in Python?\n",
        "\n",
        "   --> The == (the equal to sing ) this operater is used compare the equality  \n",
        "      of the objects\n",
        "\n",
        "      while ( is ) checks if the variables point to the same object in memory  \n",
        "\n",
        "\n",
        " 08. What are logical operators in Python?  \n",
        "\n",
        "   --> The Logical Operators are used to combine the conditional       \n",
        "       statements. this Logical operators of the python programmers to combine and modify Boolean values to make decisions.     \n",
        "\n",
        "\n",
        " 09. What is type casting in Python?\n",
        "   \n",
        "   -->The Type casting in Python is the process of converting one data type to\n",
        "      another.\n",
        "\n",
        "10. What is the difference between implicit and explicit type casting?\n",
        "\n",
        "\n",
        "11. What is the purpose of conditional statements in Python?\n",
        "  \n",
        "   --> the purpose of the conditional statements in the python is to control  \n",
        "       the flow of a program based on the certain condition or the decisions .\n",
        "       The conditional Statements allows to the program to excute the specific manner or the block of the code  if the given condition get valid dusring code run.\n",
        "\n",
        "12. How does the elif statement work?\n",
        "\n",
        "  --> The basice of the program get start after the IF condition then after the\n",
        "    initial codition is TRUE then the program get execute the code and skips the\n",
        "    other block of the code\n",
        "\n",
        "    on the other hand if the intital condition get FALSE the Elif block of condition get run in the programe.       \n",
        "\n",
        "\n",
        "13. What is the difference between for and while loops?\n",
        "\n",
        " --> FOR: TheFor loop are used to repeat a task for a specified number of times\n",
        "    each item in a collection .\n",
        "\n",
        "    WHILE : The While Loop is used to repeat the task where the condition until get not true .\n",
        "\n",
        "\n",
        "14. Describe a scenario where a while loop is more suitable than a for loop?\n",
        "\n",
        "  -->    \n",
        "\n",
        "\n"
      ],
      "metadata": {
        "id": "LhYw3OT3vdcj"
      }
    },
    {
      "cell_type": "markdown",
      "source": [
        "# Practical Questions"
      ],
      "metadata": {
        "id": "c8gujlCT9K9d"
      }
    },
    {
      "cell_type": "code",
      "source": [
        "# 01. Write a Python program to print \"Hello, World!\"\n",
        "\n",
        "print(\"Hello, World!\")"
      ],
      "metadata": {
        "colab": {
          "base_uri": "https://localhost:8080/"
        },
        "id": "i6B5Ksor3QJh",
        "outputId": "fac5c199-f7a4-43f4-c8f6-8491c383ff49"
      },
      "execution_count": 1,
      "outputs": [
        {
          "output_type": "stream",
          "name": "stdout",
          "text": [
            "Hello, World!\n"
          ]
        }
      ]
    },
    {
      "cell_type": "code",
      "source": [
        "# 02. Write a Python program that displays your name and age0\n",
        "\n",
        "Name = input(\"Enter Your Name: \")\n",
        "Age = int(input(\"Enter Your Age: \"))\n",
        "print(\"Name: \",Name)\n",
        "print(\"Age: \",Age)"
      ],
      "metadata": {
        "colab": {
          "base_uri": "https://localhost:8080/"
        },
        "id": "c6yWAHGv9oze",
        "outputId": "975251c7-8869-4c45-eadc-deda6e0985de"
      },
      "execution_count": 3,
      "outputs": [
        {
          "output_type": "stream",
          "name": "stdout",
          "text": [
            "Enter Your Name: Mahesh Bodkhe\n",
            "Enter Your Age: 21\n",
            "Name:  Mahesh Bodkhe\n",
            "Age:  21\n"
          ]
        }
      ]
    },
    {
      "cell_type": "code",
      "source": [
        "# 03. Write code to print all the pre-defined keywords in Python using the keyword library\n",
        "help(\"keywords\")"
      ],
      "metadata": {
        "colab": {
          "base_uri": "https://localhost:8080/"
        },
        "id": "91JLYoQl-Syy",
        "outputId": "50e19316-25fe-44cc-f846-e27c29bac149"
      },
      "execution_count": 4,
      "outputs": [
        {
          "output_type": "stream",
          "name": "stdout",
          "text": [
            "\n",
            "Here is a list of the Python keywords.  Enter any keyword to get more help.\n",
            "\n",
            "False               class               from                or\n",
            "None                continue            global              pass\n",
            "True                def                 if                  raise\n",
            "and                 del                 import              return\n",
            "as                  elif                in                  try\n",
            "assert              else                is                  while\n",
            "async               except              lambda              with\n",
            "await               finally             nonlocal            yield\n",
            "break               for                 not                 \n",
            "\n"
          ]
        }
      ]
    },
    {
      "cell_type": "code",
      "source": [
        "# 04. Write a program that checks if a given word is a Python keyword\n",
        "import keyword\n",
        "word = input(\"Enter a word: \")\n",
        "if keyword.iskeyword(word):\n",
        "    print(f\"{word} is a Python keyword.\")\n",
        "else:\n",
        "    print(f\"{word} is not a Python keyword.\")"
      ],
      "metadata": {
        "colab": {
          "base_uri": "https://localhost:8080/"
        },
        "id": "pIyzYjeA-lRO",
        "outputId": "38d4eba2-3df0-4397-98e8-9594790bf7e9"
      },
      "execution_count": 5,
      "outputs": [
        {
          "output_type": "stream",
          "name": "stdout",
          "text": [
            "Enter a word: False\n",
            "False is a Python keyword.\n"
          ]
        }
      ]
    },
    {
      "cell_type": "code",
      "source": [
        "# 05. Create a list and tuple in Python, and demonstrate how attempting to change an element works differently\n",
        "\n",
        "#creating a list\n",
        "my_list = [1,\"banana\",\"mango\",3.15,3+2j]\n",
        "print(my_list)\n",
        "\n",
        "#creating a tuple\n",
        "my_tuple = (1,\"banana\",\"mango\",3.15,3+2j)\n",
        "print(my_tuple)\n",
        "\n",
        "\n",
        "\n"
      ],
      "metadata": {
        "colab": {
          "base_uri": "https://localhost:8080/",
          "height": 106
        },
        "id": "ULNNlrIh-u6h",
        "outputId": "bb759611-287c-49bd-94da-0eccb15531a8"
      },
      "execution_count": 6,
      "outputs": [
        {
          "output_type": "error",
          "ename": "SyntaxError",
          "evalue": "invalid syntax (<ipython-input-6-9bf98a183771>, line 2)",
          "traceback": [
            "\u001b[0;36m  File \u001b[0;32m\"<ipython-input-6-9bf98a183771>\"\u001b[0;36m, line \u001b[0;32m2\u001b[0m\n\u001b[0;31m    for each\u001b[0m\n\u001b[0m            ^\u001b[0m\n\u001b[0;31mSyntaxError\u001b[0m\u001b[0;31m:\u001b[0m invalid syntax\n"
          ]
        }
      ]
    },
    {
      "cell_type": "code",
      "source": [
        "# 06. Write a function to demonstrate the behavior of mutable and immutable arguments\n",
        "\n",
        "# 07. Write a function to demonstrate the behavior of mutable and immutable arguments\n",
        "\n",
        "# 08. Write a program to demonstrate the use of logical operators\n",
        "\n",
        "a = True\n",
        "b = False\n",
        "print(f\"a and b: {a and b}\")\n",
        "print(f\"a or b: {a or b}\")\n",
        "print(f\"not a: {not a}\")"
      ],
      "metadata": {
        "colab": {
          "base_uri": "https://localhost:8080/"
        },
        "id": "oimARnHv_id_",
        "outputId": "4699630b-9139-4100-d9db-e0a307462132"
      },
      "execution_count": 7,
      "outputs": [
        {
          "output_type": "stream",
          "name": "stdout",
          "text": [
            "a and b: False\n",
            "a or b: True\n",
            "not a: False\n"
          ]
        }
      ]
    },
    {
      "cell_type": "code",
      "source": [
        "# 09.  Write a Python program to convert user input from string to integer, float, and boolean types\n",
        "\n",
        "# 10. Write code to demonstrate type casting with list elements\n",
        "\n",
        "my_list = [1,2,3,4,5]\n",
        "print(my_list)\n",
        "my_list = [str(i) for i in my_list]\n",
        "print(my_list)\n",
        "\n"
      ],
      "metadata": {
        "colab": {
          "base_uri": "https://localhost:8080/"
        },
        "id": "8dOJXNQECJ51",
        "outputId": "3eb84fbb-640f-424e-cbb0-fa424b99d68b"
      },
      "execution_count": 8,
      "outputs": [
        {
          "output_type": "stream",
          "name": "stdout",
          "text": [
            "[1, 2, 3, 4, 5]\n",
            "['1', '2', '3', '4', '5']\n"
          ]
        }
      ]
    },
    {
      "cell_type": "code",
      "source": [
        "# 11. Write a program that checks if a number is positive, negative, or zero\n",
        "\n",
        "num = float(input(\"Enter a number: \"))\n",
        "if num > 0:\n",
        "    print(\"The number is positive.\")\n",
        "elif num < 0:\n",
        "    print(\"The number is negative.\")\n",
        "else:\n",
        "    print(\"The number is zero.\")"
      ],
      "metadata": {
        "colab": {
          "base_uri": "https://localhost:8080/"
        },
        "id": "xKHBHynwDEtP",
        "outputId": "3470da51-393c-4db7-865c-7453547a0d3d"
      },
      "execution_count": 9,
      "outputs": [
        {
          "output_type": "stream",
          "name": "stdout",
          "text": [
            "Enter a number: 10\n",
            "The number is positive.\n"
          ]
        }
      ]
    },
    {
      "cell_type": "code",
      "source": [
        "# 12. Write a for loop to print numbers from 1 to 10\n",
        "\n",
        "for i in range(1,11):\n",
        "    print(i)"
      ],
      "metadata": {
        "colab": {
          "base_uri": "https://localhost:8080/"
        },
        "id": "AXrTp713DMxw",
        "outputId": "f78d14a7-08c3-45b9-c7e3-4701683c52f8"
      },
      "execution_count": 10,
      "outputs": [
        {
          "output_type": "stream",
          "name": "stdout",
          "text": [
            "1\n",
            "2\n",
            "3\n",
            "4\n",
            "5\n",
            "6\n",
            "7\n",
            "8\n",
            "9\n",
            "10\n"
          ]
        }
      ]
    },
    {
      "cell_type": "code",
      "source": [
        "# 13. Write a Python program to find the sum of all even numbers between 1 and 500\n",
        "\n",
        "sum = 0\n",
        "for i in range(1,501):\n",
        "    if i % 2 == 0:\n",
        "        sum += i\n",
        "print(sum)"
      ],
      "metadata": {
        "colab": {
          "base_uri": "https://localhost:8080/"
        },
        "id": "abaRhxIVDdDm",
        "outputId": "d42f3163-19da-4ed7-d33e-f645118f05a5"
      },
      "execution_count": 11,
      "outputs": [
        {
          "output_type": "stream",
          "name": "stdout",
          "text": [
            "62750\n"
          ]
        }
      ]
    },
    {
      "cell_type": "code",
      "source": [
        "# 14.  Write a program to reverse a string using a while loop\n",
        "\n",
        "my_string = input(\"Enter a string: \")\n",
        "reversed_string = reserved_string(my_string)\n",
        "print(reversed_string)\n"
      ],
      "metadata": {
        "colab": {
          "base_uri": "https://localhost:8080/",
          "height": 211
        },
        "id": "UnijDLWmDnRH",
        "outputId": "7c290d0d-eb15-4d28-b402-415b48e41951"
      },
      "execution_count": 13,
      "outputs": [
        {
          "name": "stdout",
          "output_type": "stream",
          "text": [
            "Enter a string: \"hello\"\n"
          ]
        },
        {
          "output_type": "error",
          "ename": "NameError",
          "evalue": "name 'reserved_string' is not defined",
          "traceback": [
            "\u001b[0;31m---------------------------------------------------------------------------\u001b[0m",
            "\u001b[0;31mNameError\u001b[0m                                 Traceback (most recent call last)",
            "\u001b[0;32m<ipython-input-13-9bd412971eda>\u001b[0m in \u001b[0;36m<cell line: 4>\u001b[0;34m()\u001b[0m\n\u001b[1;32m      2\u001b[0m \u001b[0;34m\u001b[0m\u001b[0m\n\u001b[1;32m      3\u001b[0m \u001b[0mmy_string\u001b[0m \u001b[0;34m=\u001b[0m \u001b[0minput\u001b[0m\u001b[0;34m(\u001b[0m\u001b[0;34m\"Enter a string: \"\u001b[0m\u001b[0;34m)\u001b[0m\u001b[0;34m\u001b[0m\u001b[0;34m\u001b[0m\u001b[0m\n\u001b[0;32m----> 4\u001b[0;31m \u001b[0mreversed_string\u001b[0m \u001b[0;34m=\u001b[0m \u001b[0mreserved_string\u001b[0m\u001b[0;34m(\u001b[0m\u001b[0mmy_string\u001b[0m\u001b[0;34m)\u001b[0m\u001b[0;34m\u001b[0m\u001b[0;34m\u001b[0m\u001b[0m\n\u001b[0m\u001b[1;32m      5\u001b[0m \u001b[0mprint\u001b[0m\u001b[0;34m(\u001b[0m\u001b[0mreversed_string\u001b[0m\u001b[0;34m)\u001b[0m\u001b[0;34m\u001b[0m\u001b[0;34m\u001b[0m\u001b[0m\n",
            "\u001b[0;31mNameError\u001b[0m: name 'reserved_string' is not defined"
          ]
        }
      ]
    },
    {
      "cell_type": "code",
      "source": [
        "# 15. write a Python program to calculate the factorial of a number provided by the user using a while loop\n",
        "\n",
        "num = int(input(\"Enter a number: \"))\n",
        "factorial = 1\n",
        "while num > 0:\n",
        "    factorial *= num\n",
        "    num -= 1\n",
        "print(factorial)\n"
      ],
      "metadata": {
        "colab": {
          "base_uri": "https://localhost:8080/"
        },
        "id": "T7lrxEHkEKiq",
        "outputId": "6993a8a2-2b5b-4257-8246-b336f489c4f7"
      },
      "execution_count": 14,
      "outputs": [
        {
          "output_type": "stream",
          "name": "stdout",
          "text": [
            "Enter a number: 15\n",
            "1307674368000\n"
          ]
        }
      ]
    },
    {
      "cell_type": "code",
      "source": [],
      "metadata": {
        "id": "3KnkV6JBEaKq"
      },
      "execution_count": null,
      "outputs": []
    }
  ]
}